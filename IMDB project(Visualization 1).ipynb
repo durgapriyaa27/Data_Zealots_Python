{
 "cells": [
  {
   "cell_type": "code",
   "execution_count": 1,
   "metadata": {
    "collapsed": false
   },
   "outputs": [],
   "source": [
    "import pandas as pd\n",
    "from operator import itemgetter\n",
    "from collections import OrderedDict\n",
    "import numpy as np\n",
    "import matplotlib.pyplot as plt\n",
    "from matplotlib.font_manager import FontProperties\n",
    "from matplotlib import pyplot as pyplt\n",
    "import webbrowser\n",
    "import pygal\n",
    "import warnings\n",
    "warnings.simplefilter(\"ignore\", Warning)"
   ]
  },
  {
   "cell_type": "code",
   "execution_count": 2,
   "metadata": {
    "collapsed": false
   },
   "outputs": [],
   "source": [
    "firefox = webbrowser.get('windows-default')\n",
    "\n",
    "movies = pd.DataFrame()\n",
    "data = pd.read_excel(\"C:\\Users\\shehnaz\\Desktop\\Shehnaz\\STUDY\\Data Programming for Analytics\\master.xlsx\", \"Sheet1\")\n",
    "movies = movies.append(data)"
   ]
  },
  {
   "cell_type": "code",
   "execution_count": 3,
   "metadata": {
    "collapsed": false
   },
   "outputs": [],
   "source": [
    "directorGross = dict()\n",
    "directorBudget = dict()\n",
    "directorMovieCount = dict()\n",
    "directorMajorWins = dict()\n",
    "directorMajorNominations = dict()\n",
    "\n",
    "productionHouseGross = dict()\n",
    "productionHouseBudget = dict()\n",
    "productionHouseMovieCount = dict()\n",
    "productionHouseMajorWins = dict()\n",
    "productionHouseMajorNominations = dict()\n",
    "\n",
    "for index, row in movies.iterrows():\n",
    "    #print (index)\n",
    "    gross = 0\n",
    "    budget = 0\n",
    "    majorNominations = 0\n",
    "    majorWins = 0\n",
    "    if unicode(row[\"gross\"]).isnumeric():\n",
    "        gross = float(row[\"gross\"])\n",
    "    if unicode(row[\"budget\"]).isnumeric():\n",
    "        budget = float(row[\"budget\"])\n",
    "    if not pd.isnull(row[\"major nominations\"]):\n",
    "        majorNominations = int(row[\"major nominations\"])\n",
    "    if not pd.isnull(row[\"major wins\"]):\n",
    "        majorWins = int(row[\"major wins\"])\n",
    "    \n",
    "    if not pd.isnull(row[\"director 1\"]):\n",
    "        director = row[\"director 1\"]\n",
    "        directorGross[director] = directorGross.get(director,0)+gross\n",
    "        directorBudget[director] = directorBudget.get(director,0)+budget\n",
    "        directorMovieCount[director] = directorMovieCount.get(director,0)+1\n",
    "        directorMajorWins[director] = directorMajorWins.get(director, 0)+majorWins\n",
    "        directorMajorNominations[director] = directorMajorNominations.get(director, 0)+ majorNominations\n",
    "        \n",
    "    if not pd.isnull(row[\"production company 1\"]):\n",
    "        pHouse = row[\"production company 1\"]\n",
    "        productionHouseGross[pHouse] = productionHouseGross.get(pHouse, 0)+gross\n",
    "        productionHouseBudget[pHouse] = productionHouseBudget.get(pHouse, 0)+budget\n",
    "        productionHouseMovieCount[pHouse] = productionHouseMovieCount.get(pHouse, 0)+1\n",
    "        productionHouseMajorWins[pHouse] = productionHouseMajorWins.get(pHouse, 0)+majorWins\n",
    "        productionHouseMajorNominations[pHouse] = productionHouseMajorNominations.get(pHouse, 0)+majorNominations\n",
    "    "
   ]
  },
  {
   "cell_type": "code",
   "execution_count": 4,
   "metadata": {
    "collapsed": false
   },
   "outputs": [],
   "source": [
    "directorGross = OrderedDict(sorted(directorGross.items(), key=itemgetter(1), reverse = True))\n",
    "directorBudget = OrderedDict(sorted(directorBudget.items(), key=itemgetter(1), reverse = True))\n",
    "directorMovieCount = OrderedDict(sorted(directorMovieCount.items(), key=itemgetter(1), reverse = True))\n",
    "directorMajorWins = OrderedDict(sorted(directorMajorWins.items(), key=itemgetter(1), reverse = True))\n",
    "directorMajorNominations = OrderedDict(sorted(directorMajorNominations.items(), key=itemgetter(1), reverse = True))\n",
    "\n",
    "topDirectorGross = list(directorGross.items())[:50]\n",
    "topDirectorBudget = list(directorBudget.items())[:50]\n",
    "topDirectorMovieCount = list(directorMovieCount.items())[:50]\n",
    "topDirectorMajorWins = list(directorMajorWins.items())[:50]\n",
    "topDirectorMajorNominations = list(directorMajorNominations.items())[:50]\n",
    "\n",
    "directorDF = pd.DataFrame(columns=('director', 'totalGross', 'totalBudget', 'totalMovieCount', 'averageGross', 'averageBudget', 'gross2BudgetRatio', 'majorWins', 'majorNominations'))\n",
    "for i in range(len(topDirectorGross)):\n",
    "    director = topDirectorGross[i][0]\n",
    "    directorDF.loc[i] = [director, directorGross[director], directorBudget[director], directorMovieCount[director], float(directorGross[director]/directorMovieCount[director]), float(directorBudget[director]/directorMovieCount[director]), float((directorGross[director]/directorMovieCount[director])/(directorBudget[director]/directorMovieCount[director])), directorMajorWins[director], directorMajorNominations[director]]\n",
    "\n",
    "directorDFSortedByGross =  directorDF[:10]    \n",
    "directorDFSortedByRatio = directorDF.sort(\"gross2BudgetRatio\", ascending = False)[:10]\n",
    "directorDFSortedByAvgGross = directorDF.sort(\"averageGross\", ascending = False)[:10]    \n",
    "directorDFSortedByAvgBudget = directorDF.sort(\"averageBudget\", ascending = False)[:10]    \n",
    "directorDFSortedByMajorWins = directorDF.sort(\"majorWins\", ascending = False)[:10]\n",
    "directorDFSortedByMajorNominations = directorDF.sort(\"majorNominations\", ascending = False)[:10]\n"
   ]
  },
  {
   "cell_type": "code",
   "execution_count": 5,
   "metadata": {
    "collapsed": true
   },
   "outputs": [],
   "source": [
    "productionHouseGross = OrderedDict(sorted(productionHouseGross.items(), key=itemgetter(1), reverse = True))\n",
    "productionHouseBudget = OrderedDict(sorted(productionHouseBudget.items(), key=itemgetter(1), reverse = True))\n",
    "productionHouseMovieCount = OrderedDict(sorted(productionHouseMovieCount.items(), key=itemgetter(1), reverse = True))\n",
    "productionHouseMajorWins = OrderedDict(sorted(productionHouseMajorWins.items(), key=itemgetter(1), reverse = True))\n",
    "productionHouseMajorNominations = OrderedDict(sorted(productionHouseMajorNominations.items(), key=itemgetter(1), reverse = True))\n",
    "\n",
    "topProductionHouseGross = list(productionHouseGross.items())[:50]\n",
    "topProductionHouseBudget = list(productionHouseBudget.items())[:50]\n",
    "topProductionHouseMovieCount = list(productionHouseMovieCount.items())[:50]\n",
    "topProductionHouseMajorWins = list(productionHouseMajorWins.items())[:50]\n",
    "topProductionHouseMajorNominations = list(productionHouseMajorNominations.items())[:50]\n",
    "\n",
    "productionHouseDF = pd.DataFrame(columns=('productionHouse', 'totalGross', 'totalBudget', 'totalMovieCount', 'averageGross', 'averageBudget', 'gross2BudgetRatio', 'majorWins', 'majorNominations'))\n",
    "for i in range(len(topProductionHouseGross)):\n",
    "    pHouse = topProductionHouseGross[i][0]\n",
    "    productionHouseDF.loc[i] = [pHouse, productionHouseGross[pHouse], productionHouseBudget[pHouse], productionHouseMovieCount[pHouse], float(productionHouseGross[pHouse]/productionHouseMovieCount[pHouse]), float(productionHouseBudget[pHouse]/productionHouseMovieCount[pHouse]), float((productionHouseGross[pHouse]/productionHouseMovieCount[pHouse])/(productionHouseBudget[pHouse]/productionHouseMovieCount[pHouse])), productionHouseMajorWins[pHouse], productionHouseMajorNominations[pHouse]]\n",
    "\n",
    "productionHouseDFSortedByGross =  productionHouseDF[:10]    \n",
    "productionHouseDFSortedByRatio = productionHouseDF.sort(\"gross2BudgetRatio\", ascending = False)[:10]\n",
    "productionHouseDFSortedByAvgGross = productionHouseDF.sort(\"averageGross\", ascending = False)[:10]    \n",
    "productionHouseDFSortedByAvgBudget = productionHouseDF.sort(\"averageBudget\", ascending = False)[:10]    \n",
    "productionHouseDFSortedByMajorWins = productionHouseDF.sort(\"majorWins\", ascending = False)[:10]\n",
    "productionHouseDFSortedByMajorNominations = productionHouseDF.sort(\"majorNominations\", ascending = False)[:10]\n",
    "\n",
    "productionHouseDFSortedByGross['totalGross'] = productionHouseDFSortedByGross['totalGross']//1000000"
   ]
  },
  {
   "cell_type": "code",
   "execution_count": 6,
   "metadata": {
    "collapsed": false
   },
   "outputs": [
    {
     "data": {
      "text/plain": [
       "True"
      ]
     },
     "execution_count": 6,
     "metadata": {},
     "output_type": "execute_result"
    }
   ],
   "source": [
    "##  Plot Major Award Wins/Nominations by Production Houses between (2006-2015)\n",
    "line_chart = pygal.Bar()\n",
    "line_chart.title = 'Major Award Wins by Production Houses'\n",
    "line_chart.x_labels = list(productionHouseDFSortedByMajorWins['productionHouse'])\n",
    "line_chart.add('Major Wins', list(productionHouseDFSortedByMajorWins['majorWins']))\n",
    "line_chart.add('Major Nominations',  list(productionHouseDFSortedByMajorWins['majorNominations']))\n",
    "line_chart.render_to_file('productionHouseWins_chart.svg', force_uri_protocol='https')\n",
    "firefox.open('productionHouseWins_chart.svg')"
   ]
  },
  {
   "cell_type": "code",
   "execution_count": 7,
   "metadata": {
    "collapsed": false
   },
   "outputs": [
    {
     "data": {
      "text/plain": [
       "True"
      ]
     },
     "execution_count": 7,
     "metadata": {},
     "output_type": "execute_result"
    }
   ],
   "source": [
    "##  Plot Major Award Wins/Nominations by Production Houses between (2006-2015)\n",
    "productionHouseDFSortedByGross['averageGross'] = productionHouseDFSortedByGross['averageGross']/1000000\n",
    "productionHouseDFSortedByGross['averageBudget'] = productionHouseDFSortedByGross['averageBudget']/1000000\n",
    "\n",
    "\n",
    "line_chart2 = pygal.Bar()\n",
    "line_chart2.title = 'Major Award Wins by Production Houses'\n",
    "line_chart2.x_labels = list(productionHouseDFSortedByMajorWins['productionHouse'])\n",
    "line_chart2.add('Average Budget', list(productionHouseDFSortedByMajorWins['averageBudget']))\n",
    "line_chart2.add('Average Gross',  list(productionHouseDFSortedByMajorWins['averageGross']))\n",
    "line_chart2.render_to_file('productionHouseAverageGross_chart.svg', force_uri_protocol='https')\n",
    "firefox.open('productionHouseAverageGross_chart.svg')"
   ]
  },
  {
   "cell_type": "code",
   "execution_count": 8,
   "metadata": {
    "collapsed": false
   },
   "outputs": [
    {
     "data": {
      "text/plain": [
       "True"
      ]
     },
     "execution_count": 8,
     "metadata": {},
     "output_type": "execute_result"
    }
   ],
   "source": [
    "## Prepare data for Pie Chart\n",
    "topProductionHouses = productionHouseDFSortedByGross['productionHouse']\n",
    "totalGross = dict()\n",
    "totalGrossPercent = dict()\n",
    "\n",
    "for pHouse, gross in list(productionHouseGross.items()):\n",
    "    if pHouse in list(topProductionHouses):\n",
    "        totalGross[pHouse] = totalGross.get(pHouse, 0)+gross\n",
    "    else:\n",
    "        totalGross['Others'] = totalGross.get('Others', 0)+gross\n",
    "\n",
    "totalCollection = sum(totalGross.values())\n",
    "\n",
    "for pHouse in totalGross.keys():\n",
    "    totalGrossPercent[pHouse] = (totalGross[pHouse]/totalCollection)*100\n",
    "\n",
    "##  Pie Chart of Total Gross Collection by Production Houses\n",
    "labels = list(totalGrossPercent.keys())\n",
    "sizes = list(totalGrossPercent.values())\n",
    "pie_chart = pygal.Pie()\n",
    "pie_chart.title = 'Pie Chart: Percentage of Total Collection by Production House'\n",
    "pie_chart.add(labels[0], sizes[0])\n",
    "pie_chart.add(labels[1], sizes[1])\n",
    "pie_chart.add(labels[2], sizes[2])\n",
    "pie_chart.add(labels[3], sizes[3])\n",
    "pie_chart.add(labels[4], sizes[4])\n",
    "pie_chart.add(labels[5], sizes[5])\n",
    "pie_chart.add(labels[6], sizes[6])\n",
    "pie_chart.add(labels[7], sizes[7])\n",
    "pie_chart.add(labels[8], sizes[8])\n",
    "pie_chart.add(labels[9], sizes[9])\n",
    "pie_chart.add(labels[10], sizes[10])\n",
    "pie_chart.render_to_file('pie_chart.svg', force_uri_protocol='https')\n",
    "\n",
    "firefox.open('pie_chart.svg')\n"
   ]
  },
  {
   "cell_type": "code",
   "execution_count": 10,
   "metadata": {
    "collapsed": false
   },
   "outputs": [],
   "source": [
    "##  Prepare data for Stacked Area Chart\n",
    "productionCompanyGrossByYear = {2006:{}, 2007:{}, 2008:{}, 2009:{}, 2010:{}, 2011:{}, 2012:{}, 2013:{}, 2014:{}, 2015:{}}\n",
    "\n",
    "for index, row in movies.iterrows():\n",
    "    gross = 0\n",
    "    budget = 0\n",
    "    if unicode(row[\"gross\"]).isnumeric():\n",
    "        gross = float(row[\"gross\"])\n",
    "    if unicode(row[\"budget\"]).isnumeric():\n",
    "        budget = float(row[\"budget\"])\n",
    "    \n",
    "    if not (pd.isnull(row['year']) or pd.isnull(row['production company 1'])):\n",
    "        year = int(row['year'])\n",
    "        pHouse = row['production company 1'] \n",
    "        if pHouse in list(topProductionHouses):\n",
    "            productionCompanyGrossByYear[year][pHouse] = productionCompanyGrossByYear[year].get(pHouse, 0)+gross\n",
    "        else:\n",
    "            productionCompanyGrossByYear[year]['Others'] = productionCompanyGrossByYear[year].get('Others', 0)+gross\n",
    "            \n",
    "grossByYear = dict()\n",
    "for keys in productionCompanyGrossByYear[2014]:\n",
    "    grossByYear[keys] = []\n",
    "\n",
    "for company in grossByYear.keys():\n",
    "    for year in productionCompanyGrossByYear.keys():\n",
    "        grossByYear[company].append(productionCompanyGrossByYear[year].get(company,0))\n"
   ]
  },
  {
   "cell_type": "code",
   "execution_count": 11,
   "metadata": {
    "collapsed": false
   },
   "outputs": [
    {
     "data": {
      "text/plain": [
       "True"
      ]
     },
     "execution_count": 11,
     "metadata": {},
     "output_type": "execute_result"
    }
   ],
   "source": [
    "## Stacked Area chart of total Gross Collection by Production Houses (2006 - 2015)\n",
    "\n",
    "x = list(range(2006,2016))\n",
    "legen = list(grossByYear.keys())\n",
    "[y1, y2, y3, y4, y5, y6, y7, y8, y9, y10, y11] = [grossByYear[company] for company in grossByYear.keys()]\n",
    "\n",
    "stacked_chart = pygal.StackedLine(fill=True)\n",
    "stacked_chart.title = 'Stacked Area Chart - Variation of Box Office Collection by Production House'\n",
    "stacked_chart.x_labels = list(range(2006,2016))\n",
    "\n",
    "stacked_chart.add(legen[3], y4)\n",
    "stacked_chart.add(legen[0], y1)\n",
    "stacked_chart.add(legen[1], y2)\n",
    "stacked_chart.add(legen[2], y3)\n",
    "stacked_chart.add(legen[4], y5)\n",
    "stacked_chart.add(legen[5], y6)\n",
    "stacked_chart.add(legen[6], y7)\n",
    "stacked_chart.add(legen[7], y8)\n",
    "stacked_chart.add(legen[8], y9)\n",
    "stacked_chart.add(legen[9], y10)\n",
    "stacked_chart.add(legen[10], y11)\n",
    "\n",
    "stacked_chart.render_to_file('stackedArea_chart.svg', force_uri_protocol='https')\n",
    "firefox.open('stackedArea_chart.svg')\n",
    "\n"
   ]
  },
  {
   "cell_type": "code",
   "execution_count": 12,
   "metadata": {
    "collapsed": false
   },
   "outputs": [
    {
     "data": {
      "text/plain": [
       "True"
      ]
     },
     "execution_count": 12,
     "metadata": {},
     "output_type": "execute_result"
    }
   ],
   "source": [
    "##Dot Chart: Total Gross Collection by Production Houses (2006 - 2015)\n",
    "legen = ['Others', 'Lionsgate', 'Paramount Pictures', 'DreamWorks SKG', 'Walt Disney Pictures', 'Twentieth Century Fox Film Corporation', 'New Line Cinema', 'Warner Bros.', 'Columbia Pictures', 'Universal Pictures', 'Fox 2000 Pictures']\n",
    "\n",
    "dot_chart = pygal.Dot(x_label_rotation=30)\n",
    "dot_chart.title = 'Dot Chart: Total Gross Collection across Years by Production House'\n",
    "dot_chart.x_labels = list(range(2006,2016))\n",
    "dot_chart.add(legen[0], y4)\n",
    "dot_chart.add(legen[1], y1)\n",
    "dot_chart.add(legen[2], y2)\n",
    "dot_chart.add(legen[3], y3)\n",
    "dot_chart.add(legen[4], y5)\n",
    "dot_chart.add(legen[5], y6)\n",
    "dot_chart.add(legen[6], y7)\n",
    "dot_chart.add(legen[7], y8)\n",
    "dot_chart.add(legen[8], y9)\n",
    "dot_chart.add(legen[9], y10)\n",
    "dot_chart.add(legen[10], y11)\n",
    "dot_chart.render_to_file('dot_chart.svg', force_uri_protocol='https')\n",
    "firefox.open('dot_chart.svg')"
   ]
  },
  {
   "cell_type": "code",
   "execution_count": 13,
   "metadata": {
    "collapsed": false
   },
   "outputs": [
    {
     "data": {
      "text/plain": [
       "True"
      ]
     },
     "execution_count": 13,
     "metadata": {},
     "output_type": "execute_result"
    }
   ],
   "source": [
    "pHouse = list(productionHouseDFSortedByRatio['productionHouse'])\n",
    "g2bratio = list(productionHouseDFSortedByRatio['gross2BudgetRatio'])\n",
    "pHouseRatio_chart = pygal.HorizontalBar()\n",
    "pHouseRatio_chart.title = 'Top 10 Production Houses with Gross to Budget Ratio'\n",
    "for pos in range(len(pHouse)):\n",
    "    pHouseRatio_chart.add(pHouse[pos], g2bratio[pos])\n",
    "\n",
    "pHouseRatio_chart.render_to_file('pHouseRatio_chart.svg', force_uri_protocol='https')\n",
    "firefox.open('pHouseRatio_chart.svg')"
   ]
  },
  {
   "cell_type": "code",
   "execution_count": null,
   "metadata": {
    "collapsed": true
   },
   "outputs": [],
   "source": []
  }
 ],
 "metadata": {
  "kernelspec": {
   "display_name": "Python 2",
   "language": "python",
   "name": "python2"
  },
  "language_info": {
   "codemirror_mode": {
    "name": "ipython",
    "version": 2
   },
   "file_extension": ".py",
   "mimetype": "text/x-python",
   "name": "python",
   "nbconvert_exporter": "python",
   "pygments_lexer": "ipython2",
   "version": "2.7.11"
  }
 },
 "nbformat": 4,
 "nbformat_minor": 0
}
